{
  "nbformat": 4,
  "nbformat_minor": 0,
  "metadata": {
    "colab": {
      "provenance": [],
      "authorship_tag": "ABX9TyNjxq8rW7XmVMlIW2nk0Hk9",
      "include_colab_link": true
    },
    "kernelspec": {
      "name": "python3",
      "display_name": "Python 3"
    },
    "language_info": {
      "name": "python"
    }
  },
  "cells": [
    {
      "cell_type": "markdown",
      "metadata": {
        "id": "view-in-github",
        "colab_type": "text"
      },
      "source": [
        "<a href=\"https://colab.research.google.com/github/kAmmarah/python_class_Assignments/blob/main/calculator.ipynb\" target=\"_parent\"><img src=\"https://colab.research.google.com/assets/colab-badge.svg\" alt=\"Open In Colab\"/></a>"
      ]
    },
    {
      "cell_type": "markdown",
      "source": [
        "# **calculator**"
      ],
      "metadata": {
        "id": "dLQSqH0Uu8qP"
      }
    },
    {
      "cell_type": "code",
      "source": [
        "# Simple Calculator for Google Colab\n",
        "def calculator():\n",
        "    while True:\n",
        "        print(\"\\nSelect operation:\")\n",
        "        print(\"1. Add\")\n",
        "        print(\"2. Subtract\")\n",
        "        print(\"3. Multiply\")\n",
        "        print(\"4. Divide\")\n",
        "        print(\"5. Exit\")\n",
        "\n",
        "        choice = input(\"Enter choice (1/2/3/4/5): \")\n",
        "\n",
        "        if choice == '5':\n",
        "            print(\"Exiting calculator...\")\n",
        "            break\n",
        "\n",
        "        if choice in ('1', '2', '3', '4'):\n",
        "            try:\n",
        "                num1 = float(input(\"Enter first number: \"))\n",
        "                num2 = float(input(\"Enter second number: \"))\n",
        "\n",
        "                if choice == '1':\n",
        "                    print(f\"Result: {num1 + num2}\")\n",
        "                elif choice == '2':\n",
        "                    print(f\"Result: {num1 - num2}\")\n",
        "                elif choice == '3':\n",
        "                    print(f\"Result: {num1 * num2}\")\n",
        "                elif choice == '4':\n",
        "                    if num2 != 0:\n",
        "                        print(f\"Result: {num1 / num2}\")\n",
        "                    else:\n",
        "                        print(\"Error: Cannot divide by zero\")\n",
        "            except ValueError:\n",
        "                print(\"Invalid input! Please enter numbers only.\")\n",
        "        else:\n",
        "            print(\"Invalid choice! Please select a valid option.\")\n",
        "\n",
        "# Run the calculator in Google Colab\n",
        "calculator()"
      ],
      "metadata": {
        "colab": {
          "base_uri": "https://localhost:8080/"
        },
        "id": "QpGbtbBNwIaH",
        "outputId": "34dcba0d-c781-4dc0-e03b-5ec37facafcb"
      },
      "execution_count": null,
      "outputs": [
        {
          "output_type": "stream",
          "name": "stdout",
          "text": [
            "\n",
            "Select operation:\n",
            "1. Add\n",
            "2. Subtract\n",
            "3. Multiply\n",
            "4. Divide\n",
            "5. Exit\n",
            "Enter choice (1/2/3/4/5): 1\n",
            "Enter first number: 2\n",
            "Enter second number: 3\n",
            "Result: 5.0\n",
            "\n",
            "Select operation:\n",
            "1. Add\n",
            "2. Subtract\n",
            "3. Multiply\n",
            "4. Divide\n",
            "5. Exit\n",
            "Enter choice (1/2/3/4/5): 2\n",
            "Enter first number: 5\n",
            "Enter second number: 4\n",
            "Result: 1.0\n",
            "\n",
            "Select operation:\n",
            "1. Add\n",
            "2. Subtract\n",
            "3. Multiply\n",
            "4. Divide\n",
            "5. Exit\n",
            "Enter choice (1/2/3/4/5): 3\n",
            "Enter first number: 2\n",
            "Enter second number: 2\n",
            "Result: 4.0\n",
            "\n",
            "Select operation:\n",
            "1. Add\n",
            "2. Subtract\n",
            "3. Multiply\n",
            "4. Divide\n",
            "5. Exit\n"
          ]
        }
      ]
    },
    {
      "cell_type": "markdown",
      "source": [
        "# **Calculator formate 2 in simple way **"
      ],
      "metadata": {
        "id": "Y2IKuenP8K0h"
      }
    },
    {
      "cell_type": "code",
      "source": [
        "def calculator (num1, num2, operation):\n",
        "    if operation == \"addition\":\n",
        "      return num1+num2\n",
        "    elif operation == \"subtraction\":\n",
        "        return num1-num2\n",
        "    elif operation == \"multiplication\":\n",
        "        return num1*num2\n",
        "    elif operation == \"division\":\n",
        "        if num2 != 0:\n",
        "            return num1/num2\n",
        "        else:\n",
        "            return \"Error: Cannot divide by zero\"\n",
        "    else:\n",
        "        return \"Invalid operation\"\n",
        "\n",
        "\n",
        "#main program\n",
        "def main():\n",
        "    print(\"welcome to muy python calculator\")\n",
        "    num1 = float(input(\"enter the first number: \"))\n",
        "    num2 = float(input(\"enter the second number: \"))\n",
        "    print(\"choose the operation to perform: Addition, Subtraction, Multiplication, Division\")\n",
        "    operation = input(\"enter the operation: \") .strip().lower()\n",
        "    result = calculator(num1, num2, operation)\n",
        "    print(f\"The result of {operation} is: {result}\")\n",
        "\n",
        "    main()"
      ],
      "metadata": {
        "id": "g7avoHX59B1V"
      },
      "execution_count": 4,
      "outputs": []
    }
  ]
}