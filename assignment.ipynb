{
  "nbformat": 4,
  "nbformat_minor": 0,
  "metadata": {
    "colab": {
      "provenance": [],
      "authorship_tag": "ABX9TyNRKHTNX4F5tEV/J7rL3wXR",
      "include_colab_link": true
    },
    "kernelspec": {
      "name": "python3",
      "display_name": "Python 3"
    },
    "language_info": {
      "name": "python"
    }
  },
  "cells": [
    {
      "cell_type": "markdown",
      "metadata": {
        "id": "view-in-github",
        "colab_type": "text"
      },
      "source": [
        "<a href=\"https://colab.research.google.com/github/kAmmarah/python_class_Assignments/blob/main/assignment.ipynb\" target=\"_parent\"><img src=\"https://colab.research.google.com/assets/colab-badge.svg\" alt=\"Open In Colab\"/></a>"
      ]
    },
    {
      "cell_type": "code",
      "source": [
        "import random\n",
        "\n",
        "def guess_the_number():\n",
        "    print(\"Welcome to Guess the Number!\")\n",
        "    print(\"I am thinking of a number between 1 and 100.\")\n",
        "\n",
        "    # The computer randomly selects a number between 1 and 100\n",
        "    number_to_guess = random.randint(1, 100)\n",
        "\n",
        "    # The player has to guess the number\n",
        "    attempts = 0\n",
        "    guessed_correctly = False\n",
        "\n",
        "    while not guessed_correctly:\n",
        "        try:\n",
        "            player_guess = int(input(\"Enter your guess: \"))\n",
        "            attempts += 1\n",
        "\n",
        "            if player_guess < number_to_guess:\n",
        "                print(\"Too low! Try again.\")\n",
        "            elif player_guess > number_to_guess:\n",
        "                print(\"Too high! Try again.\")\n",
        "            else:\n",
        "                guessed_correctly = True\n",
        "                print(f\"Congratulations! You've guessed the number in {attempts} attempts.\")\n",
        "        except ValueError:\n",
        "            print(\"Please enter a valid number.\")\n",
        "\n",
        "# Start the game\n",
        "guess_the_number()\n"
      ],
      "metadata": {
        "colab": {
          "base_uri": "https://localhost:8080/"
        },
        "id": "QxKtmLtV6mPQ",
        "outputId": "e69b5358-83e8-42d6-d833-1904a61c7a50"
      },
      "execution_count": null,
      "outputs": [
        {
          "output_type": "stream",
          "name": "stdout",
          "text": [
            "Welcome to Guess the Number!\n",
            "I am thinking of a number between 1 and 100.\n",
            "Enter your guess: 5\n",
            "Too low! Try again.\n",
            "Enter your guess: 10\n",
            "Too high! Try again.\n",
            "Enter your guess: 7\n",
            "Too low! Try again.\n",
            "Enter your guess: 9\n",
            "Congratulations! You've guessed the number in 4 attempts.\n"
          ]
        }
      ]
    },
    {
      "cell_type": "code",
      "source": [
        "import random\n",
        "\n",
        "def rock_paper_scissors():\n",
        "    print(\"Welcome to Rock, Paper, Scissors!\")\n",
        "\n",
        "    # Options for the game\n",
        "    options = ['rock', 'paper', 'scissors']\n",
        "\n",
        "    # Get player's choice\n",
        "    player_choice = input(\"Enter your choice (rock, paper, or scissors): \").lower()\n",
        "\n",
        "    # Ensure the player's choice is valid\n",
        "    if player_choice not in options:\n",
        "        print(\"Invalid choice! Please choose rock, paper, or scissors.\")\n",
        "        return\n",
        "\n",
        "    # Computer's random choice\n",
        "    computer_choice = random.choice(options)\n",
        "    print(f\"Computer chose: {computer_choice}\")\n",
        "\n",
        "    # Determine the winner\n",
        "    if player_choice == computer_choice:\n",
        "        print(\"It's a tie!\")\n",
        "    elif (player_choice == 'rock' and computer_choice == 'scissors') or \\\n",
        "         (player_choice == 'paper' and computer_choice == 'rock') or \\\n",
        "         (player_choice == 'scissors' and computer_choice == 'paper'):\n",
        "        print(\"You win!\")\n",
        "    else:\n",
        "        print(\"You lose!\")\n",
        "\n",
        "# Start the game\n",
        "rock_paper_scissors()\n"
      ],
      "metadata": {
        "colab": {
          "base_uri": "https://localhost:8080/"
        },
        "id": "l52Q3opd7Sl-",
        "outputId": "0eee23cd-e2f6-4678-97ef-1599ec43910a"
      },
      "execution_count": null,
      "outputs": [
        {
          "output_type": "stream",
          "name": "stdout",
          "text": [
            "Welcome to Rock, Paper, Scissors!\n",
            "Enter your choice (rock, paper, or scissors):  rock, paper,\n",
            "Invalid choice! Please choose rock, paper, or scissors.\n"
          ]
        }
      ]
    },
    {
      "cell_type": "code",
      "source": [
        "import random\n",
        "\n",
        "def hangman():\n",
        "    # List of words for the game\n",
        "    words = ['python', 'java', 'hangman', 'developer', 'programming', 'computer']\n",
        "    word_to_guess = random.choice(words)\n",
        "    guessed_letters = []\n",
        "    attempts = 6  # Number of attempts before losing\n",
        "\n",
        "    print(\"Welcome to Hangman!\")\n",
        "\n",
        "    # Game loop\n",
        "    while attempts > 0:\n",
        "        # Display word with blanks for unguessed letters\n",
        "        display_word = ''.join([letter if letter in guessed_letters else '_' for letter in word_to_guess])\n",
        "        print(f\"\\nWord to guess: {display_word}\")\n",
        "        print(f\"Guessed letters: {', '.join(guessed_letters)}\")\n",
        "        print(f\"Attempts left: {attempts}\")\n",
        "\n",
        "        # Get player's guess\n",
        "        guess = input(\"Guess a letter: \").lower()\n",
        "\n",
        "        # Ensure the guess is a valid letter\n",
        "        if not guess.isalpha() or len(guess) != 1:\n",
        "            print(\"Invalid input. Please enter a single letter.\")\n",
        "            continue\n",
        "\n",
        "        # Check if the guess has already been made\n",
        "        if guess in guessed_letters:\n",
        "            print(f\"You've already guessed the letter '{guess}'\")\n",
        "            continue\n",
        "\n",
        "        # Add the guess to the list of guessed letters\n",
        "        guessed_letters.append(guess)\n",
        "\n",
        "        # Check if the guess is correct\n",
        "        if guess in word_to_guess:\n",
        "            print(f\"Good guess! The letter '{guess}' is in the word.\")\n",
        "        else:\n",
        "            attempts -= 1\n",
        "            print(f\"Oops! The letter '{guess}' is not in the word.\")\n",
        "\n",
        "        # Check if the player has guessed the word\n",
        "        if all(letter in guessed_letters for letter in word_to_guess):\n",
        "            print(f\"\\nCongratulations! You've guessed the word: {word_to_guess}\")\n",
        "            break\n",
        "\n",
        "    # If the player runs out of attempts\n",
        "    if attempts == 0:\n",
        "        print(f\"\\nGame over! The correct word was: {word_to_guess}\")\n",
        "\n",
        "# Start the game\n",
        "hangman()\n"
      ],
      "metadata": {
        "colab": {
          "base_uri": "https://localhost:8080/"
        },
        "id": "wvYzw5pu-HoF",
        "outputId": "5a405118-445c-48ef-cbca-ae80fc13b86c"
      },
      "execution_count": null,
      "outputs": [
        {
          "output_type": "stream",
          "name": "stdout",
          "text": [
            "Welcome to Hangman!\n",
            "\n",
            "Word to guess: ________\n",
            "Guessed letters: \n",
            "Attempts left: 6\n",
            "Guess a letter: e\n",
            "Good guess! The letter 'e' is in the word.\n",
            "\n",
            "Word to guess: ______e_\n",
            "Guessed letters: e\n",
            "Attempts left: 6\n",
            "Guess a letter: r\n",
            "Good guess! The letter 'r' is in the word.\n",
            "\n",
            "Word to guess: ______er\n",
            "Guessed letters: e, r\n",
            "Attempts left: 6\n",
            "Guess a letter: t\n",
            "Good guess! The letter 't' is in the word.\n",
            "\n",
            "Word to guess: _____ter\n",
            "Guessed letters: e, r, t\n",
            "Attempts left: 6\n",
            "Guess a letter: s\n",
            "Oops! The letter 's' is not in the word.\n",
            "\n",
            "Word to guess: _____ter\n",
            "Guessed letters: e, r, t, s\n",
            "Attempts left: 5\n",
            "Guess a letter: d\n",
            "Oops! The letter 'd' is not in the word.\n",
            "\n",
            "Word to guess: _____ter\n",
            "Guessed letters: e, r, t, s, d\n",
            "Attempts left: 4\n",
            "Guess a letter: l\n",
            "Oops! The letter 'l' is not in the word.\n",
            "\n",
            "Word to guess: _____ter\n",
            "Guessed letters: e, r, t, s, d, l\n",
            "Attempts left: 3\n",
            "Guess a letter: t\n",
            "You've already guessed the letter 't'\n",
            "\n",
            "Word to guess: _____ter\n",
            "Guessed letters: e, r, t, s, d, l\n",
            "Attempts left: 3\n",
            "Guess a letter: s\n",
            "You've already guessed the letter 's'\n",
            "\n",
            "Word to guess: _____ter\n",
            "Guessed letters: e, r, t, s, d, l\n",
            "Attempts left: 3\n",
            "Guess a letter: m\n",
            "Good guess! The letter 'm' is in the word.\n",
            "\n",
            "Word to guess: __m__ter\n",
            "Guessed letters: e, r, t, s, d, l, m\n",
            "Attempts left: 3\n",
            "Guess a letter: o\n",
            "Good guess! The letter 'o' is in the word.\n",
            "\n",
            "Word to guess: _om__ter\n",
            "Guessed letters: e, r, t, s, d, l, m, o\n",
            "Attempts left: 3\n",
            "Guess a letter: c\n",
            "Good guess! The letter 'c' is in the word.\n",
            "\n",
            "Word to guess: com__ter\n",
            "Guessed letters: e, r, t, s, d, l, m, o, c\n",
            "Attempts left: 3\n",
            "Guess a letter: p\n",
            "Good guess! The letter 'p' is in the word.\n",
            "\n",
            "Word to guess: comp_ter\n",
            "Guessed letters: e, r, t, s, d, l, m, o, c, p\n",
            "Attempts left: 3\n",
            "Guess a letter: u\n",
            "Good guess! The letter 'u' is in the word.\n",
            "\n",
            "Congratulations! You've guessed the word: computer\n"
          ]
        }
      ]
    },
    {
      "cell_type": "code",
      "source": [
        "import time\n",
        "\n",
        "def countdown_timer(seconds):\n",
        "    while seconds > 0:\n",
        "        mins, secs = divmod(seconds, 60)\n",
        "        timeformat = f'{mins:02}:{secs:02}'\n",
        "        print(timeformat, end='\\r')  # End with '\\r' to overwrite the previous time\n",
        "        time.sleep(1)\n",
        "        seconds -= 1\n",
        "\n",
        "    print(\"00:00\\nTime's up!\")\n",
        "\n",
        "# Set the countdown duration in seconds\n",
        "seconds = int(input(\"Enter the countdown time in seconds: \"))\n",
        "\n",
        "# Start the countdown\n",
        "countdown_timer(seconds)"
      ],
      "metadata": {
        "colab": {
          "base_uri": "https://localhost:8080/"
        },
        "id": "H_4oWjiA_3_t",
        "outputId": "e17e79ec-e6ed-424f-cd54-ada57f8c7eee"
      },
      "execution_count": null,
      "outputs": [
        {
          "output_type": "stream",
          "name": "stdout",
          "text": [
            "Enter the countdown time in seconds: 130\n",
            "00:00\n",
            "Time's up!\n"
          ]
        }
      ]
    },
    {
      "cell_type": "code",
      "source": [
        "import random\n",
        "import string\n",
        "\n",
        "def generate_password(length=12):\n",
        "    # Define the character sets to choose from\n",
        "    all_characters = string.ascii_letters + string.digits + string.punctuation\n",
        "\n",
        "    # Randomly select characters from the set\n",
        "    password = ''.join(random.choice(all_characters) for i in range(length))\n",
        "\n",
        "    return password\n",
        "\n",
        "# Set the password length\n",
        "password_length = int(input(\"Enter the desired password length: \"))\n",
        "\n",
        "# Generate and print the password\n",
        "password = generate_password(password_length)\n",
        "print(f\"Generated password: {password}\")\n"
      ],
      "metadata": {
        "id": "ke83V0eGB6_n"
      },
      "execution_count": null,
      "outputs": []
    },
    {
      "cell_type": "code",
      "source": [
        "# Initial values\n",
        "K_Electric = False\n",
        "UPS = False\n",
        "\n",
        "# Function to ensure only one is true\n",
        "def set_power_source(k_electric, ups):\n",
        "    if k_electric and ups:\n",
        "        raise ValueError(\"Both K_Electric and UPS cannot be true at the same time.\")\n",
        "    return k_electric, ups\n",
        "\n",
        "# Example usage\n",
        "try:\n",
        "    K_Electric, UPS = set_power_source(True, False)  # Set only one to True\n",
        "    print(f\"K_Electric: {K_Electric}, UPS: {UPS}\")\n",
        "\n",
        "    K_Electric, UPS = set_power_source(False, True)  # Switch the source\n",
        "    print(f\"K_Electric: {K_Electric}, UPS: {UPS}\")\n",
        "\n",
        "    # This will raise an error\n",
        "    K_Electric, UPS = set_power_source(True, True)\n",
        "    print(f\"K_Electric: {K_Electric}, UPS: {UPS}\")\n",
        "except ValueError as e:\n",
        "    print(f\"Error: {e}\")\n"
      ],
      "metadata": {
        "colab": {
          "base_uri": "https://localhost:8080/"
        },
        "id": "iZDaI_fC3tEZ",
        "outputId": "dee32917-49c0-420b-e684-fab78d95bfeb"
      },
      "execution_count": null,
      "outputs": [
        {
          "output_type": "stream",
          "name": "stdout",
          "text": [
            "K_Electric: True, UPS: False\n",
            "K_Electric: False, UPS: True\n",
            "Error: Both K_Electric and UPS cannot be true at the same time.\n"
          ]
        }
      ]
    }
  ]
}